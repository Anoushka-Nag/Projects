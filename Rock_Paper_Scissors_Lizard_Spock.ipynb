{
  "nbformat": 4,
  "nbformat_minor": 0,
  "metadata": {
    "colab": {
      "name": "Rock Paper Scissors Lizard Spock.ipynb",
      "provenance": [],
      "authorship_tag": "ABX9TyMlobOYDbKVKb40qpLP9e41",
      "include_colab_link": true
    },
    "kernelspec": {
      "name": "python3",
      "display_name": "Python 3"
    },
    "language_info": {
      "name": "python"
    }
  },
  "cells": [
    {
      "cell_type": "markdown",
      "metadata": {
        "id": "view-in-github",
        "colab_type": "text"
      },
      "source": [
        "<a href=\"https://colab.research.google.com/github/Anoushka-Nag/Projects/blob/main/Rock_Paper_Scissors_Lizard_Spock.ipynb\" target=\"_parent\"><img src=\"https://colab.research.google.com/assets/colab-badge.svg\" alt=\"Open In Colab\"/></a>"
      ]
    },
    {
      "cell_type": "code",
      "execution_count": null,
      "metadata": {
        "id": "LMChMy_8kClS"
      },
      "outputs": [],
      "source": [
        "import random\n",
        "from enum import IntEnum\n",
        "\n",
        "class Action(IntEnum):\n",
        "    Rock = 0\n",
        "    Paper = 1\n",
        "    Scissors = 2\n",
        "    Lizard = 3\n",
        "    Spock = 4\n",
        "\n",
        "winning_condition = {\n",
        "    Action.Scissors: [Action.Lizard, Action.Paper],\n",
        "    Action.Paper: [Action.Spock, Action.Rock],\n",
        "    Action.Rock: [Action.Lizard, Action.Scissors],\n",
        "    Action.Lizard: [Action.Spock,Action.Paper],\n",
        "    Action.Spock: [Action.Scissors, Action.Rock]\n",
        "}\n",
        "\n",
        "def get_user_choice():\n",
        "    choices = [f\"{action.name}({action.value})\" for action in Action]\n",
        "    choices_str = \", \".join(choices)\n",
        "    selection = int(input(f\"Enter a choice ({choices_str}): \"))\n",
        "    print(\"Your choice is\",selection)\n",
        "    action = Action(selection)\n",
        "    return action\n",
        "\n",
        "def get_computer_choice():\n",
        "    selection = random.randint(0, len(Action) - 1)\n",
        "    print(\"Computer's random choice is\", selection)\n",
        "    action = Action(selection)\n",
        "    return action\n",
        "\n",
        "def determine_winner(user_action, computer_action):\n",
        "    losing_condition = winning_condition[user_action]\n",
        "    if user_action == computer_action:\n",
        "        print(f\"Both players selected {user_action.name}. It's a tie!\")\n",
        "    elif computer_action in losing_condition:\n",
        "        print(f\"{user_action.name} beats {computer_action.name}! You win!\")\n",
        "    else:\n",
        "        print(f\"{computer_action.name} beats {user_action.name}! You lose.\")\n",
        "\n",
        "while True:\n",
        "    try:\n",
        "        user_action = get_user_choice()\n",
        "    except ValueError as e:\n",
        "        print(\"Invalid selection. Enter a value in range 0-4\")\n",
        "        continue\n",
        "\n",
        "    computer_action = get_computer_choice()\n",
        "    determine_winner(user_action, computer_action)\n",
        "\n",
        "    play_again = input(\"Would you like to play again? (yes/no): \")\n",
        "    if play_again.lower() == \"no\":\n",
        "        break"
      ]
    }
  ]
}